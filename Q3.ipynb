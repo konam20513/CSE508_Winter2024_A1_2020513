{
 "cells": [
  {
   "cell_type": "code",
   "execution_count": 16,
   "metadata": {},
   "outputs": [],
   "source": [
    "# importing required libraries\n",
    "\n",
    "import os\n",
    "import pickle\n",
    "import spacy"
   ]
  },
  {
   "cell_type": "code",
   "execution_count": 17,
   "metadata": {},
   "outputs": [],
   "source": [
    "folder = \"F:\\\\IIITD\\\\Sem 8\\\\info_ret\\\\CSE508_Winter2024_A1_2020513\\\\preprocessed_text\""
   ]
  },
  {
   "cell_type": "code",
   "execution_count": 18,
   "metadata": {},
   "outputs": [],
   "source": [
    "# Load the spaCy English language model for NLP tasks\n",
    "nlp = spacy.load(\"en_core_web_sm\")\n",
    "def pre_query(text):\n",
    "    doc = nlp(text.lower())\n",
    "    return [tok.text for tok in doc if not tok.is_stop and not tok.is_punct and not tok.is_space]"
   ]
  },
  {
   "cell_type": "code",
   "execution_count": 19,
   "metadata": {},
   "outputs": [],
   "source": [
    "# creating postional index\n",
    "def create_pos(folder):\n",
    "    # initilazing dictionary to store positional index\n",
    "    pos_index = {}\n",
    "\n",
    "    # iterating over files\n",
    "    for filename in os.listdir(folder):\n",
    "        filepath = os.path.join(folder, filename)\n",
    "\n",
    "        # reading file\n",
    "        with open(filepath, 'r', encoding='utf-8') as file:\n",
    "            \n",
    "            # splitting the words\n",
    "            words = file.read().split()\n",
    "            for pos, word in enumerate(words):\n",
    "                # updating postional index\n",
    "                if word not in pos_index:\n",
    "                    pos_index[word] = {}\n",
    "                if filename not in pos_index[word]:\n",
    "                    pos_index[word][filename] = []\n",
    "                pos_index[word][filename].append(pos)\n",
    "\n",
    "    # returning final result\n",
    "    return pos_index"
   ]
  },
  {
   "cell_type": "code",
   "execution_count": 20,
   "metadata": {},
   "outputs": [],
   "source": [
    "# creating postional index\n",
    "positional_index = create_pos(folder)"
   ]
  },
  {
   "cell_type": "code",
   "execution_count": 21,
   "metadata": {},
   "outputs": [],
   "source": [
    "# name to save file\n",
    "index_file = \"postional_index.pkl\""
   ]
  },
  {
   "cell_type": "code",
   "execution_count": 22,
   "metadata": {},
   "outputs": [],
   "source": [
    "# saving inverted index as pickle file\n",
    "def save(inverted_index, file_name):\n",
    "    with open(file_name, 'wb') as file:\n",
    "        pickle.dump(inverted_index, file)"
   ]
  },
  {
   "cell_type": "code",
   "execution_count": 23,
   "metadata": {},
   "outputs": [],
   "source": [
    "# loading saved inverted index using pickle\n",
    "def load_inverted_index(file_name):\n",
    "    with open(file_name, 'rb') as file:\n",
    "        return pickle.load(file)"
   ]
  },
  {
   "cell_type": "code",
   "execution_count": 24,
   "metadata": {},
   "outputs": [],
   "source": [
    "save(positional_index, index_file)\n",
    "\n",
    "# loading inv index\n",
    "loaded_index = load_inverted_index(index_file)"
   ]
  },
  {
   "cell_type": "code",
   "execution_count": 25,
   "metadata": {},
   "outputs": [],
   "source": [
    "# processing phrase queries\n",
    "\n",
    "def process(query, index):\n",
    "    # splitting words\n",
    "    terms = query.split()\n",
    "    if not terms:\n",
    "        return set()\n",
    "\n",
    "    # getting intial list of documents for first term\n",
    "    init = index.get(terms[0], {})\n",
    "    v = {doc: pos for doc, pos in init.items()}\n",
    "\n",
    "    # checking next terms for matching postions\n",
    "    for term in terms[1:]:\n",
    "        term_docs = index.get(term, {})\n",
    "        new_val = {}\n",
    "        for doc, pos in term_docs.items():\n",
    "            if doc in v:\n",
    "                prev_pos = v[doc]\n",
    "                new_positions = [p for p in pos if p-1 in prev_pos]\n",
    "                if new_positions:\n",
    "                    new_val[doc] = new_positions\n",
    "        v = new_val\n",
    "\n",
    "    # return document names where phrases occurs\n",
    "    return set(v.keys())\n"
   ]
  },
  {
   "cell_type": "code",
   "execution_count": 28,
   "metadata": {},
   "outputs": [
    {
     "name": "stdout",
     "output_type": "stream",
     "text": [
      "Number of documents retrieved for query 1: 0\n",
      "Names of documents retrieved for query 1: \n",
      "Number of documents retrieved for query 2: 0\n",
      "Names of documents retrieved for query 2: \n"
     ]
    }
   ],
   "source": [
    "n = int(input(\"Enter number of queries: \"))  \n",
    "for i in range(n):\n",
    "    q = input(\"Enter your phrase query: \")\n",
    "    # process qurery phrase using postional index\n",
    "    res = process(q, loaded_index)\n",
    "    # print number of documents and names\n",
    "    print(f\"Number of documents retrieved for query {i+1}:\", len(res))\n",
    "    print(f\"Names of documents retrieved for query {i+1}:\", \", \".join(res))\n"
   ]
  }
 ],
 "metadata": {
  "kernelspec": {
   "display_name": "Python 3",
   "language": "python",
   "name": "python3"
  },
  "language_info": {
   "codemirror_mode": {
    "name": "ipython",
    "version": 3
   },
   "file_extension": ".py",
   "mimetype": "text/x-python",
   "name": "python",
   "nbconvert_exporter": "python",
   "pygments_lexer": "ipython3",
   "version": "3.10.11"
  }
 },
 "nbformat": 4,
 "nbformat_minor": 2
}
