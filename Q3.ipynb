{
 "cells": [
  {
   "cell_type": "code",
   "execution_count": 35,
   "metadata": {},
   "outputs": [],
   "source": [
    "# importing required libraries\n",
    "\n",
    "import os\n",
    "import pickle\n",
    "import spacy"
   ]
  },
  {
   "cell_type": "code",
   "execution_count": 36,
   "metadata": {},
   "outputs": [],
   "source": [
    "folder = \"preprocessed_text\""
   ]
  },
  {
   "cell_type": "code",
   "execution_count": 37,
   "metadata": {},
   "outputs": [],
   "source": [
    "# loading spacy\n",
    "nlp = spacy.load(\"en_core_web_sm\")\n",
    "def pre_query(text):\n",
    "    doc = nlp(text.lower())\n",
    "    return [tok.text for tok in doc if not tok.is_stop and not tok.is_punct and not tok.is_space]"
   ]
  },
  {
   "cell_type": "code",
   "execution_count": 38,
   "metadata": {},
   "outputs": [],
   "source": [
    "# creating postional index\n",
    "def create_pos(folder):\n",
    "    # initilazing dictionary to store positional index\n",
    "    pos_index = {}\n",
    "\n",
    "    # iterating over files\n",
    "    for filename in os.listdir(folder):\n",
    "        filepath = os.path.join(folder, filename)\n",
    "\n",
    "        # reading file\n",
    "        with open(filepath, 'r', encoding='utf-8') as file:\n",
    "            \n",
    "            # splitting the words\n",
    "            words = file.read().split()\n",
    "            for pos, word in enumerate(words):\n",
    "                # updating postional index\n",
    "                if word not in pos_index:\n",
    "                    pos_index[word] = {}\n",
    "                if filename not in pos_index[word]:\n",
    "                    pos_index[word][filename] = []\n",
    "                pos_index[word][filename].append(pos)\n",
    "\n",
    "    # returning final result\n",
    "    return pos_index"
   ]
  },
  {
   "cell_type": "code",
   "execution_count": 39,
   "metadata": {},
   "outputs": [],
   "source": [
    "# creating postional index\n",
    "positional_index = create_pos(folder)"
   ]
  },
  {
   "cell_type": "code",
   "execution_count": 40,
   "metadata": {},
   "outputs": [],
   "source": [
    "# name to save file\n",
    "index_file = \"postional_index.pkl\""
   ]
  },
  {
   "cell_type": "code",
   "execution_count": 41,
   "metadata": {},
   "outputs": [],
   "source": [
    "# saving inverted index as pickle file\n",
    "def save(inverted_index, file_name):\n",
    "    with open(file_name, 'wb') as file:\n",
    "        pickle.dump(inverted_index, file)"
   ]
  },
  {
   "cell_type": "code",
   "execution_count": 42,
   "metadata": {},
   "outputs": [],
   "source": [
    "# loading saved inverted index using pickle\n",
    "def load_inverted_index(file_name):\n",
    "    with open(file_name, 'rb') as file:\n",
    "        return pickle.load(file)"
   ]
  },
  {
   "cell_type": "code",
   "execution_count": 43,
   "metadata": {},
   "outputs": [],
   "source": [
    "save(positional_index, index_file)\n",
    "\n",
    "# loading inv index\n",
    "loaded_index = load_inverted_index(index_file)"
   ]
  },
  {
   "cell_type": "code",
   "execution_count": 44,
   "metadata": {},
   "outputs": [],
   "source": [
    "def process(query, index):\n",
    "    # pre-proceesing input query\n",
    "    preprocessed_terms = pre_query(query)\n",
    "\n",
    "    if not preprocessed_terms:\n",
    "        return set()\n",
    "\n",
    "    # getting intial list of documents for first term\n",
    "    init = index.get(preprocessed_terms[0], {})\n",
    "    v = {doc: pos for doc, pos in init.items()}\n",
    "\n",
    "    # checking next terms for matching postions\n",
    "    for term in preprocessed_terms[1:]:\n",
    "        term_docs = index.get(term, {})\n",
    "        new_val = {}\n",
    "        for doc, pos in term_docs.items():\n",
    "            if doc in v:\n",
    "                prev_pos = v[doc]\n",
    "                new_positions = [p for p in pos if p-1 in prev_pos]\n",
    "                if new_positions:\n",
    "                    new_val[doc] = new_positions\n",
    "        v = new_val\n",
    "\n",
    "    # return document names where phrases occurs\n",
    "    return set(v.keys())\n"
   ]
  },
  {
   "cell_type": "code",
   "execution_count": 45,
   "metadata": {},
   "outputs": [
    {
     "name": "stdout",
     "output_type": "stream",
     "text": [
      "Number of documents retrieved for query 1: 3\n",
      "Names of documents retrieved for query 1: file279.txt, file6.txt, file854.txt\n"
     ]
    }
   ],
   "source": [
    "n = int(input(\"Enter number of queries: \"))  \n",
    "for i in range(n):\n",
    "    q = input(\"Enter your phrase query: \")\n",
    "    # process qurery phrase using postional index\n",
    "    res = process(q, loaded_index)\n",
    "    # print number of documents and names\n",
    "    print(f\"Number of documents retrieved for query {i+1} using positional index:\", len(res))\n",
    "    print(f\"Names of documents retrieved for query {i+1} using positional index:\", \", \".join(res))\n"
   ]
  }
 ],
 "metadata": {
  "kernelspec": {
   "display_name": "Python 3",
   "language": "python",
   "name": "python3"
  },
  "language_info": {
   "codemirror_mode": {
    "name": "ipython",
    "version": 3
   },
   "file_extension": ".py",
   "mimetype": "text/x-python",
   "name": "python",
   "nbconvert_exporter": "python",
   "pygments_lexer": "ipython3",
   "version": "3.10.11"
  }
 },
 "nbformat": 4,
 "nbformat_minor": 2
}
