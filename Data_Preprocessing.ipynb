{
 "cells": [
  {
   "cell_type": "code",
   "execution_count": 10,
   "metadata": {},
   "outputs": [],
   "source": [
    "# Importing required libraries\n",
    "\n",
    "import spacy\n",
    "import os"
   ]
  },
  {
   "cell_type": "code",
   "execution_count": 11,
   "metadata": {},
   "outputs": [
    {
     "name": "stdout",
     "output_type": "stream",
     "text": [
      "Collecting en-core-web-sm==3.5.0\n",
      "  Downloading https://github.com/explosion/spacy-models/releases/download/en_core_web_sm-3.5.0/en_core_web_sm-3.5.0-py3-none-any.whl (12.8 MB)\n",
      "     ---------------------------------------- 0.0/12.8 MB ? eta -:--:--\n",
      "      --------------------------------------- 0.2/12.8 MB 6.6 MB/s eta 0:00:02\n",
      "     - -------------------------------------- 0.3/12.8 MB 7.0 MB/s eta 0:00:02\n",
      "     -- ------------------------------------- 0.8/12.8 MB 6.7 MB/s eta 0:00:02\n",
      "     --- ------------------------------------ 1.0/12.8 MB 7.0 MB/s eta 0:00:02\n",
      "     ---- ----------------------------------- 1.5/12.8 MB 7.3 MB/s eta 0:00:02\n",
      "     ----- ---------------------------------- 1.9/12.8 MB 7.4 MB/s eta 0:00:02\n",
      "     ------ --------------------------------- 2.2/12.8 MB 6.9 MB/s eta 0:00:02\n",
      "     --------- ------------------------------ 2.9/12.8 MB 8.4 MB/s eta 0:00:02\n",
      "     --------- ------------------------------ 3.1/12.8 MB 7.7 MB/s eta 0:00:02\n",
      "     ------------ --------------------------- 4.1/12.8 MB 9.0 MB/s eta 0:00:01\n",
      "     ------------ --------------------------- 4.2/12.8 MB 8.6 MB/s eta 0:00:02\n",
      "     -------------- ------------------------- 4.7/12.8 MB 8.6 MB/s eta 0:00:01\n",
      "     --------------- ------------------------ 5.1/12.8 MB 9.0 MB/s eta 0:00:01\n",
      "     ------------------ --------------------- 5.8/12.8 MB 9.0 MB/s eta 0:00:01\n",
      "     ------------------- -------------------- 6.3/12.8 MB 9.3 MB/s eta 0:00:01\n",
      "     --------------------- ------------------ 6.8/12.8 MB 9.2 MB/s eta 0:00:01\n",
      "     ----------------------- ---------------- 7.6/12.8 MB 9.9 MB/s eta 0:00:01\n",
      "     ----------------------- ---------------- 7.6/12.8 MB 9.9 MB/s eta 0:00:01\n",
      "     ------------------------ --------------- 8.0/12.8 MB 9.1 MB/s eta 0:00:01\n",
      "     ------------------------- -------------- 8.2/12.8 MB 8.9 MB/s eta 0:00:01\n",
      "     --------------------------- ------------ 8.9/12.8 MB 9.2 MB/s eta 0:00:01\n",
      "     --------------------------- ------------ 8.9/12.8 MB 9.2 MB/s eta 0:00:01\n",
      "     ------------------------------ --------- 9.8/12.8 MB 9.2 MB/s eta 0:00:01\n",
      "     ------------------------------- -------- 10.2/12.8 MB 9.5 MB/s eta 0:00:01\n",
      "     --------------------------------- ------ 10.7/12.8 MB 9.8 MB/s eta 0:00:01\n",
      "     ---------------------------------- ---- 11.2/12.8 MB 10.4 MB/s eta 0:00:01\n",
      "     ------------------------------------ --- 11.6/12.8 MB 9.8 MB/s eta 0:00:01\n",
      "     ------------------------------------- - 12.4/12.8 MB 10.6 MB/s eta 0:00:01\n",
      "     ------------------------------------- - 12.4/12.8 MB 10.6 MB/s eta 0:00:01\n",
      "     --------------------------------------  12.8/12.8 MB 10.2 MB/s eta 0:00:01\n",
      "     ---------------------------------------- 12.8/12.8 MB 9.6 MB/s eta 0:00:00\n",
      "Requirement already satisfied: spacy<3.6.0,>=3.5.0 in c:\\users\\akhil\\appdata\\local\\programs\\python\\python310\\lib\\site-packages (from en-core-web-sm==3.5.0) (3.5.3)\n",
      "Requirement already satisfied: pathy>=0.10.0 in c:\\users\\akhil\\appdata\\local\\programs\\python\\python310\\lib\\site-packages (from spacy<3.6.0,>=3.5.0->en-core-web-sm==3.5.0) (0.10.2)\n",
      "Requirement already satisfied: typer<0.8.0,>=0.3.0 in c:\\users\\akhil\\appdata\\local\\programs\\python\\python310\\lib\\site-packages (from spacy<3.6.0,>=3.5.0->en-core-web-sm==3.5.0) (0.7.0)\n",
      "Requirement already satisfied: numpy>=1.15.0 in c:\\users\\akhil\\appdata\\local\\programs\\python\\python310\\lib\\site-packages (from spacy<3.6.0,>=3.5.0->en-core-web-sm==3.5.0) (1.24.3)\n",
      "Requirement already satisfied: jinja2 in c:\\users\\akhil\\appdata\\local\\programs\\python\\python310\\lib\\site-packages (from spacy<3.6.0,>=3.5.0->en-core-web-sm==3.5.0) (3.1.2)\n",
      "Requirement already satisfied: spacy-loggers<2.0.0,>=1.0.0 in c:\\users\\akhil\\appdata\\local\\programs\\python\\python310\\lib\\site-packages (from spacy<3.6.0,>=3.5.0->en-core-web-sm==3.5.0) (1.0.4)\n",
      "Requirement already satisfied: spacy-legacy<3.1.0,>=3.0.11 in c:\\users\\akhil\\appdata\\local\\programs\\python\\python310\\lib\\site-packages (from spacy<3.6.0,>=3.5.0->en-core-web-sm==3.5.0) (3.0.12)\n",
      "Requirement already satisfied: murmurhash<1.1.0,>=0.28.0 in c:\\users\\akhil\\appdata\\local\\programs\\python\\python310\\lib\\site-packages (from spacy<3.6.0,>=3.5.0->en-core-web-sm==3.5.0) (1.0.9)\n",
      "Requirement already satisfied: thinc<8.2.0,>=8.1.8 in c:\\users\\akhil\\appdata\\local\\programs\\python\\python310\\lib\\site-packages (from spacy<3.6.0,>=3.5.0->en-core-web-sm==3.5.0) (8.1.10)\n",
      "Requirement already satisfied: pydantic!=1.8,!=1.8.1,<1.11.0,>=1.7.4 in c:\\users\\akhil\\appdata\\local\\programs\\python\\python310\\lib\\site-packages (from spacy<3.6.0,>=3.5.0->en-core-web-sm==3.5.0) (1.10.9)\n",
      "Requirement already satisfied: wasabi<1.2.0,>=0.9.1 in c:\\users\\akhil\\appdata\\local\\programs\\python\\python310\\lib\\site-packages (from spacy<3.6.0,>=3.5.0->en-core-web-sm==3.5.0) (1.1.2)\n",
      "Requirement already satisfied: cymem<2.1.0,>=2.0.2 in c:\\users\\akhil\\appdata\\local\\programs\\python\\python310\\lib\\site-packages (from spacy<3.6.0,>=3.5.0->en-core-web-sm==3.5.0) (2.0.7)\n",
      "Requirement already satisfied: srsly<3.0.0,>=2.4.3 in c:\\users\\akhil\\appdata\\local\\programs\\python\\python310\\lib\\site-packages (from spacy<3.6.0,>=3.5.0->en-core-web-sm==3.5.0) (2.4.6)\n",
      "Requirement already satisfied: langcodes<4.0.0,>=3.2.0 in c:\\users\\akhil\\appdata\\local\\programs\\python\\python310\\lib\\site-packages (from spacy<3.6.0,>=3.5.0->en-core-web-sm==3.5.0) (3.3.0)\n",
      "Requirement already satisfied: catalogue<2.1.0,>=2.0.6 in c:\\users\\akhil\\appdata\\local\\programs\\python\\python310\\lib\\site-packages (from spacy<3.6.0,>=3.5.0->en-core-web-sm==3.5.0) (2.0.8)\n",
      "Requirement already satisfied: preshed<3.1.0,>=3.0.2 in c:\\users\\akhil\\appdata\\local\\programs\\python\\python310\\lib\\site-packages (from spacy<3.6.0,>=3.5.0->en-core-web-sm==3.5.0) (3.0.8)\n",
      "Requirement already satisfied: setuptools in c:\\users\\akhil\\appdata\\roaming\\python\\python310\\site-packages (from spacy<3.6.0,>=3.5.0->en-core-web-sm==3.5.0) (67.8.0)\n",
      "Requirement already satisfied: tqdm<5.0.0,>=4.38.0 in c:\\users\\akhil\\appdata\\local\\programs\\python\\python310\\lib\\site-packages (from spacy<3.6.0,>=3.5.0->en-core-web-sm==3.5.0) (4.65.0)\n",
      "Requirement already satisfied: requests<3.0.0,>=2.13.0 in c:\\users\\akhil\\appdata\\local\\programs\\python\\python310\\lib\\site-packages (from spacy<3.6.0,>=3.5.0->en-core-web-sm==3.5.0) (2.31.0)\n",
      "Requirement already satisfied: packaging>=20.0 in c:\\users\\akhil\\appdata\\local\\programs\\python\\python310\\lib\\site-packages (from spacy<3.6.0,>=3.5.0->en-core-web-sm==3.5.0) (23.1)\n",
      "Requirement already satisfied: smart-open<7.0.0,>=5.2.1 in c:\\users\\akhil\\appdata\\local\\programs\\python\\python310\\lib\\site-packages (from spacy<3.6.0,>=3.5.0->en-core-web-sm==3.5.0) (6.3.0)\n",
      "Requirement already satisfied: typing-extensions>=4.2.0 in c:\\users\\akhil\\appdata\\local\\programs\\python\\python310\\lib\\site-packages (from pydantic!=1.8,!=1.8.1,<1.11.0,>=1.7.4->spacy<3.6.0,>=3.5.0->en-core-web-sm==3.5.0) (4.8.0)\n",
      "Requirement already satisfied: urllib3<3,>=1.21.1 in c:\\users\\akhil\\appdata\\local\\programs\\python\\python310\\lib\\site-packages (from requests<3.0.0,>=2.13.0->spacy<3.6.0,>=3.5.0->en-core-web-sm==3.5.0) (1.26.18)\n",
      "Requirement already satisfied: certifi>=2017.4.17 in c:\\users\\akhil\\appdata\\local\\programs\\python\\python310\\lib\\site-packages (from requests<3.0.0,>=2.13.0->spacy<3.6.0,>=3.5.0->en-core-web-sm==3.5.0) (2023.5.7)\n",
      "Requirement already satisfied: charset-normalizer<4,>=2 in c:\\users\\akhil\\appdata\\local\\programs\\python\\python310\\lib\\site-packages (from requests<3.0.0,>=2.13.0->spacy<3.6.0,>=3.5.0->en-core-web-sm==3.5.0) (3.1.0)\n",
      "Requirement already satisfied: idna<4,>=2.5 in c:\\users\\akhil\\appdata\\local\\programs\\python\\python310\\lib\\site-packages (from requests<3.0.0,>=2.13.0->spacy<3.6.0,>=3.5.0->en-core-web-sm==3.5.0) (3.4)\n",
      "Requirement already satisfied: confection<1.0.0,>=0.0.1 in c:\\users\\akhil\\appdata\\local\\programs\\python\\python310\\lib\\site-packages (from thinc<8.2.0,>=8.1.8->spacy<3.6.0,>=3.5.0->en-core-web-sm==3.5.0) (0.0.4)\n",
      "Requirement already satisfied: blis<0.8.0,>=0.7.8 in c:\\users\\akhil\\appdata\\local\\programs\\python\\python310\\lib\\site-packages (from thinc<8.2.0,>=8.1.8->spacy<3.6.0,>=3.5.0->en-core-web-sm==3.5.0) (0.7.9)\n",
      "Requirement already satisfied: colorama in c:\\users\\akhil\\appdata\\local\\programs\\python\\python310\\lib\\site-packages (from tqdm<5.0.0,>=4.38.0->spacy<3.6.0,>=3.5.0->en-core-web-sm==3.5.0) (0.4.6)\n",
      "Requirement already satisfied: click<9.0.0,>=7.1.1 in c:\\users\\akhil\\appdata\\local\\programs\\python\\python310\\lib\\site-packages (from typer<0.8.0,>=0.3.0->spacy<3.6.0,>=3.5.0->en-core-web-sm==3.5.0) (8.1.3)\n",
      "Requirement already satisfied: MarkupSafe>=2.0 in c:\\users\\akhil\\appdata\\local\\programs\\python\\python310\\lib\\site-packages (from jinja2->spacy<3.6.0,>=3.5.0->en-core-web-sm==3.5.0) (2.1.2)\n",
      "\u001b[38;5;2m✔ Download and installation successful\u001b[0m\n",
      "You can now load the package via spacy.load('en_core_web_sm')\n"
     ]
    },
    {
     "name": "stderr",
     "output_type": "stream",
     "text": [
      "WARNING: Ignoring invalid distribution -atplotlib (c:\\users\\akhil\\appdata\\local\\programs\\python\\python310\\lib\\site-packages)\n",
      "WARNING: Ignoring invalid distribution -atplotlib (c:\\users\\akhil\\appdata\\local\\programs\\python\\python310\\lib\\site-packages)\n",
      "WARNING: Ignoring invalid distribution -atplotlib (c:\\users\\akhil\\appdata\\local\\programs\\python\\python310\\lib\\site-packages)\n",
      "WARNING: Ignoring invalid distribution -atplotlib (c:\\users\\akhil\\appdata\\local\\programs\\python\\python310\\lib\\site-packages)\n",
      "\n",
      "[notice] A new release of pip is available: 23.0.1 -> 23.3.2\n",
      "[notice] To update, run: python.exe -m pip install --upgrade pip\n"
     ]
    }
   ],
   "source": [
    "# Installing required pipelines\n",
    "!python -m spacy download en_core_web_sm"
   ]
  },
  {
   "cell_type": "code",
   "execution_count": 12,
   "metadata": {},
   "outputs": [],
   "source": [
    "# Loading English CPU piepline from spaCy\n",
    "nlp = spacy.load(\"en_core_web_sm\")"
   ]
  },
  {
   "cell_type": "code",
   "execution_count": 13,
   "metadata": {},
   "outputs": [],
   "source": [
    "# Preprocessing\n",
    "def pre_pro(text):\n",
    "    \n",
    "    # lowercasing the text\n",
    "    text = text.lower()\n",
    "    \n",
    "    # Convert it into spacy format\n",
    "    doc = nlp(text)\n",
    "    \n",
    "    # Inclduing tokens which are not stopwords, punctuations and blanks\n",
    "    fil_tok = [tok.text for tok in doc if not tok.is_stop and not tok.is_punct and not tok.is_space]\n",
    "    \n",
    "    # joining them and converting back to string\n",
    "    return ' '.join(fil_tok)"
   ]
  },
  {
   "cell_type": "code",
   "execution_count": 14,
   "metadata": {},
   "outputs": [],
   "source": [
    "# Automating reading files, preproessing and saving them\n",
    "def process_files(inp, op):\n",
    "    \n",
    "    # creating output folder\n",
    "    os.makedirs(op, exist_ok=True)\n",
    "\n",
    "    for file_name in os.listdir(inp):\n",
    "        if file_name.endswith('.txt'):\n",
    "            \n",
    "            # getting path of input file\n",
    "            ip_path = os.path.join(inp, file_name)\n",
    "            \n",
    "            # getting path of output file\n",
    "            op_path = os.path.join(op, file_name)\n",
    "            \n",
    "            # reading the file with utf8 encoding\n",
    "            with open(ip_path, 'r', encoding='utf-8') as file:\n",
    "                text = file.read()\n",
    "                \n",
    "            # passing the text to above defined preprocessing function\n",
    "            processed = pre_pro(text)\n",
    "            \n",
    "            # writing the processed text into new file\n",
    "            with open(op_path, 'w', encoding='utf-8') as file:\n",
    "                file.write(processed)"
   ]
  },
  {
   "cell_type": "code",
   "execution_count": 15,
   "metadata": {},
   "outputs": [],
   "source": [
    "# input and output folder paths\n",
    "input_folder = \"F:\\\\IIITD\\\\Sem 8\\\\IR\\\\CSE508_Winter2024_A1_2020513\\\\text\"\n",
    "output_folder = \"F:\\\\IIITD\\\\Sem 8\\\\IR\\\\CSE508_Winter2024_A1_2020513\\\\preprocessed_text\"\n",
    "\n",
    "process_files(input_folder, output_folder)"
   ]
  },
  {
   "cell_type": "code",
   "execution_count": 22,
   "metadata": {},
   "outputs": [],
   "source": [
    "# displaying files 1 to 5 before and after preprocessing\n",
    "def display(input_folder, output_folder, n):\n",
    "    for i in range(1, n + 1):\n",
    "        ip = os.path.join(input_folder, f'file{i}.txt')\n",
    "        op = os.path.join(output_folder, f'file{i}.txt')\n",
    "\n",
    "        with open(ip, 'r', encoding='utf-8') as file:\n",
    "            txt = file.read()\n",
    "\n",
    "        with open(op, 'r', encoding='utf-8') as file:\n",
    "            pre_txt = file.read()\n",
    "\n",
    "        print(f\"Text {i}\")\n",
    "        print(txt)\n",
    "        print(\"------------------------\")\n",
    "        print(f\"Preprocessed_Text {i}\")\n",
    "        print(pre_txt)\n",
    "        print(\"------------------------\\n\")\n"
   ]
  },
  {
   "cell_type": "code",
   "execution_count": 23,
   "metadata": {},
   "outputs": [
    {
     "name": "stdout",
     "output_type": "stream",
     "text": [
      "Text 1\n",
      "Loving these vintage springs on my vintage strat. They have a good tension and great stability. If you are floating your bridge and want the most out of your springs than these are the way to go.\n",
      "------------------------\n",
      "Preprocessed_Text 1\n",
      "loving vintage springs vintage strat good tension great stability floating bridge want springs way\n",
      "------------------------\n",
      "\n",
      "Text 2\n",
      "Works great as a guitar bench mat. Not rugged enough for abuse but if you take care of it, it will take care of you. Makes organization of workspace much easier because screws won't roll around. Color is good too.\n",
      "------------------------\n",
      "Preprocessed_Text 2\n",
      "works great guitar bench mat rugged abuse care care makes organization workspace easier screws wo roll color good\n",
      "------------------------\n",
      "\n",
      "Text 3\n",
      "We use these for everything from our acoustic bass down to our ukuleles. I know there is a smaller model available for ukes, violins, etc.; we haven't yet ordered those, but these will work on smaller instruments if one doesn't extend the feet to their maximum width. They're gentle on the instruments, and the grippy material keeps them secure.\n",
      "\n",
      "The greatest benefit has been when writing music at the computer and needing to set a guitar down to use the keyboard/mouse - just easier for me than a hanging stand.\n",
      "\n",
      "We have several and gave one to a friend for Christmas as well. I've used mine on stage, and it folds up small enough to fit right in my gig bag.\n",
      "------------------------\n",
      "Preprocessed_Text 3\n",
      "use acoustic bass ukuleles know smaller model available ukes violins etc ordered work smaller instruments extend feet maximum width gentle instruments grippy material keeps secure greatest benefit writing music computer needing set guitar use keyboard mouse easier hanging stand gave friend christmas stage folds small fit right gig bag\n",
      "------------------------\n",
      "\n",
      "Text 4\n",
      "Great price and good quality.  It didn't quite match the radius of my sound hole but it was close enough.\n",
      "------------------------\n",
      "Preprocessed_Text 4\n",
      "great price good quality match radius sound hole close\n",
      "------------------------\n",
      "\n",
      "Text 5\n",
      "I bought this bass to split time as my primary bass with my Dean Edge. This might be winning me over. The bass boost is outstanding. The active pickups really allow you to adjust to the sound you want. I recommend this for anyone. If you're a beginner  like I was not too long ago, it's an excellent bass to start with. If you're on tour and/or music is making you money, this bass will be beatiful on stage. The color is a bit darker than in the picture. But, all around, this is a great buy.\n",
      "------------------------\n",
      "Preprocessed_Text 5\n",
      "bought bass split time primary bass dean edge winning bass boost outstanding active pickups allow adjust sound want recommend beginner like long ago excellent bass start tour and/or music making money bass beatiful stage color bit darker picture great buy\n",
      "------------------------\n",
      "\n"
     ]
    }
   ],
   "source": [
    "# Input and output folder paths\n",
    "input_folder = \"F:\\\\IIITD\\\\Sem 8\\\\IR\\\\CSE508_Winter2024_A1_2020513\\\\text\"\n",
    "output_folder = \"F:\\\\IIITD\\\\Sem 8\\\\IR\\\\CSE508_Winter2024_A1_2020513\\\\preprocessed_text\"\n",
    "\n",
    "# Display 5 files\n",
    "display(input_folder, output_folder,5)"
   ]
  }
 ],
 "metadata": {
  "kernelspec": {
   "display_name": "Python 3",
   "language": "python",
   "name": "python3"
  },
  "language_info": {
   "codemirror_mode": {
    "name": "ipython",
    "version": 3
   },
   "file_extension": ".py",
   "mimetype": "text/x-python",
   "name": "python",
   "nbconvert_exporter": "python",
   "pygments_lexer": "ipython3",
   "version": "3.10.11"
  }
 },
 "nbformat": 4,
 "nbformat_minor": 2
}
