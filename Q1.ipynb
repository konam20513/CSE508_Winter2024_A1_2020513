{
 "cells": [
  {
   "cell_type": "code",
   "execution_count": 14,
   "metadata": {},
   "outputs": [],
   "source": [
    "# Importing required libraries\n",
    "\n",
    "import spacy\n",
    "import os"
   ]
  },
  {
   "cell_type": "code",
   "execution_count": null,
   "metadata": {},
   "outputs": [],
   "source": [
    "# Installing required pipelines\n",
    "!python -m spacy download en_core_web_sm"
   ]
  },
  {
   "cell_type": "code",
   "execution_count": 16,
   "metadata": {},
   "outputs": [],
   "source": [
    "# Loading English CPU piepline from spaCy\n",
    "nlp = spacy.load(\"en_core_web_sm\")"
   ]
  },
  {
   "cell_type": "code",
   "execution_count": 17,
   "metadata": {},
   "outputs": [],
   "source": [
    "# Preprocessing\n",
    "def pre_pro(text):\n",
    "    \n",
    "    # lowercasing the text\n",
    "    text = text.lower()\n",
    "    \n",
    "    # Convert it into spacy format\n",
    "    doc = nlp(text)\n",
    "    \n",
    "    # Inclduing tokens which are not stopwords, punctuations and blanks\n",
    "    fil_tok = [tok.text for tok in doc if not tok.is_stop and not tok.is_punct and not tok.is_space]\n",
    "    \n",
    "    # joining them and converting back to string\n",
    "    return ' '.join(fil_tok)"
   ]
  },
  {
   "cell_type": "code",
   "execution_count": 18,
   "metadata": {},
   "outputs": [],
   "source": [
    "# Automating reading files, preproessing and saving them\n",
    "def process_files(inp, op):\n",
    "    \n",
    "    # creating output folder\n",
    "    os.makedirs(op, exist_ok=True)\n",
    "\n",
    "    for file_name in os.listdir(inp):\n",
    "        if file_name.endswith('.txt'):\n",
    "            \n",
    "            # getting path of input file\n",
    "            ip_path = os.path.join(inp, file_name)\n",
    "            \n",
    "            # getting path of output file\n",
    "            op_path = os.path.join(op, file_name)\n",
    "            \n",
    "            # reading the file with utf8 encoding\n",
    "            with open(ip_path, 'r', encoding='utf-8') as file:\n",
    "                text = file.read()\n",
    "                \n",
    "            # passing the text to above defined preprocessing function\n",
    "            processed = pre_pro(text)\n",
    "            \n",
    "            # writing the processed text into new file\n",
    "            with open(op_path, 'w', encoding='utf-8') as file:\n",
    "                file.write(processed)"
   ]
  },
  {
   "cell_type": "code",
   "execution_count": 20,
   "metadata": {},
   "outputs": [],
   "source": [
    "# Input and output folder paths\n",
    "input_folder = \"F:\\\\IIITD\\\\Sem 8\\\\info_ret\\\\CSE508_Winter2024_A1_2020513\\\\text\"\n",
    "output_folder = \"F:\\\\IIITD\\\\Sem 8\\\\info_ret\\\\CSE508_Winter2024_A1_2020513\\\\preprocessed_text\"\n",
    "\n",
    "process_files(input_folder, output_folder)"
   ]
  },
  {
   "cell_type": "code",
   "execution_count": 22,
   "metadata": {},
   "outputs": [
    {
     "name": "stdout",
     "output_type": "stream",
     "text": [
      "Text 1\n",
      "Loving these vintage springs on my vintage strat. They have a good tension and great stability. If you are floating your bridge and want the most out of your springs than these are the way to go.\n",
      "------------------------\n",
      "Preprocessed_Text 1\n",
      "loving vintage springs vintage strat good tension great stability floating bridge want springs way\n",
      "------------------------\n",
      "\n",
      "Text 2\n",
      "Works great as a guitar bench mat. Not rugged enough for abuse but if you take care of it, it will take care of you. Makes organization of workspace much easier because screws won't roll around. Color is good too.\n",
      "------------------------\n",
      "Preprocessed_Text 2\n",
      "works great guitar bench mat rugged abuse care care makes organization workspace easier screws wo roll color good\n",
      "------------------------\n",
      "\n",
      "Text 3\n",
      "We use these for everything from our acoustic bass down to our ukuleles. I know there is a smaller model available for ukes, violins, etc.; we haven't yet ordered those, but these will work on smaller instruments if one doesn't extend the feet to their maximum width. They're gentle on the instruments, and the grippy material keeps them secure.\n",
      "\n",
      "The greatest benefit has been when writing music at the computer and needing to set a guitar down to use the keyboard/mouse - just easier for me than a hanging stand.\n",
      "\n",
      "We have several and gave one to a friend for Christmas as well. I've used mine on stage, and it folds up small enough to fit right in my gig bag.\n",
      "------------------------\n",
      "Preprocessed_Text 3\n",
      "use acoustic bass ukuleles know smaller model available ukes violins etc ordered work smaller instruments extend feet maximum width gentle instruments grippy material keeps secure greatest benefit writing music computer needing set guitar use keyboard mouse easier hanging stand gave friend christmas stage folds small fit right gig bag\n",
      "------------------------\n",
      "\n",
      "Text 4\n",
      "Great price and good quality.  It didn't quite match the radius of my sound hole but it was close enough.\n",
      "------------------------\n",
      "Preprocessed_Text 4\n",
      "great price good quality match radius sound hole close\n",
      "------------------------\n",
      "\n",
      "Text 5\n",
      "I bought this bass to split time as my primary bass with my Dean Edge. This might be winning me over. The bass boost is outstanding. The active pickups really allow you to adjust to the sound you want. I recommend this for anyone. If you're a beginner  like I was not too long ago, it's an excellent bass to start with. If you're on tour and/or music is making you money, this bass will be beatiful on stage. The color is a bit darker than in the picture. But, all around, this is a great buy.\n",
      "------------------------\n",
      "Preprocessed_Text 5\n",
      "bought bass split time primary bass dean edge winning bass boost outstanding active pickups allow adjust sound want recommend beginner like long ago excellent bass start tour and/or music making money bass beatiful stage color bit darker picture great buy\n",
      "------------------------\n",
      "\n"
     ]
    }
   ],
   "source": [
    "# Input and output folder paths\n",
    "input_folder = \"F:\\\\IIITD\\\\Sem 8\\\\info_ret\\\\CSE508_Winter2024_A1_2020513\\\\text\"\n",
    "output_folder = \"F:\\\\IIITD\\\\Sem 8\\\\info_ret\\\\CSE508_Winter2024_A1_2020513\\\\preprocessed_text\"\n",
    "\n",
    "# Display 5 files\n",
    "display(input_folder, output_folder,5)"
   ]
  }
 ],
 "metadata": {
  "kernelspec": {
   "display_name": "Python 3",
   "language": "python",
   "name": "python3"
  },
  "language_info": {
   "codemirror_mode": {
    "name": "ipython",
    "version": 3
   },
   "file_extension": ".py",
   "mimetype": "text/x-python",
   "name": "python",
   "nbconvert_exporter": "python",
   "pygments_lexer": "ipython3",
   "version": "3.10.11"
  }
 },
 "nbformat": 4,
 "nbformat_minor": 2
}
