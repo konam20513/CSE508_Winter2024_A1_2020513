{
 "cells": [
  {
   "cell_type": "code",
   "execution_count": 8,
   "metadata": {},
   "outputs": [],
   "source": [
    "# Importing required libraries\n",
    "import os\n",
    "import spacy\n",
    "import pickle\n"
   ]
  },
  {
   "cell_type": "code",
   "execution_count": 9,
   "metadata": {},
   "outputs": [],
   "source": [
    "folder = \"F:\\\\IIITD\\\\Sem 8\\\\info_ret\\\\CSE508_Winter2024_A1_2020513\\\\preprocessed_text\""
   ]
  },
  {
   "cell_type": "code",
   "execution_count": 10,
   "metadata": {},
   "outputs": [],
   "source": [
    "# Load the spaCy English language model for NLP tasks\n",
    "nlp = spacy.load(\"en_core_web_sm\")\n",
    "def pre_query(text):\n",
    "    doc = nlp(text.lower())\n",
    "    return [tok.text for tok in doc if not tok.is_stop and not tok.is_punct and not tok.is_space]"
   ]
  },
  {
   "cell_type": "code",
   "execution_count": 11,
   "metadata": {},
   "outputs": [],
   "source": [
    "# creating inverted index\n",
    "def inv_index(folder):\n",
    "    \n",
    "    # initializing empty dictionary\n",
    "    inv = {}  \n",
    "    \n",
    "    # iterating over each file in folder\n",
    "    for filename in os.listdir(folder):  \n",
    "        \n",
    "        # reading each one\n",
    "        with open(os.path.join(folder, filename), 'r', encoding='utf-8') as file: \n",
    "            \n",
    "            # storing set of unique words from text file \n",
    "            words = set(file.read().split())  \n",
    "            \n",
    "            for word in words:\n",
    "                \n",
    "                # updating each word with filename\n",
    "                inv.setdefault(word, set()).add(filename)  \n",
    "    return inv"
   ]
  },
  {
   "cell_type": "code",
   "execution_count": 12,
   "metadata": {},
   "outputs": [],
   "source": [
    "# saving inverted index as pickle file\n",
    "def save(inverted_index, file_name):\n",
    "    with open(file_name, 'wb') as file:\n",
    "        pickle.dump(inverted_index, file)"
   ]
  },
  {
   "cell_type": "code",
   "execution_count": 13,
   "metadata": {},
   "outputs": [],
   "source": [
    "def process_query(query, operations, inverted_index):\n",
    "    # splitting the query\n",
    "    terms = query.split()\n",
    "\n",
    "    # preprocess the first term \n",
    "    pre_first_term = pre_query(terms[0])\n",
    "    \n",
    "    # initializing result set\n",
    "    res = set()\n",
    "    for term in pre_first_term:\n",
    "        res = res.union(inverted_index.get(term, set()))\n",
    "\n",
    "    # iterate over the operations and the remaining terms\n",
    "    for i, op in enumerate(operations):\n",
    "        if i + 1 < len(terms):\n",
    "            preprocessed_term = pre_query(terms[i + 1])\n",
    "            next_set = set()\n",
    "            for term in preprocessed_term:\n",
    "                next_set = next_set.union(inverted_index.get(term, set()))\n",
    "\n",
    "            if op == 'AND':\n",
    "                res = res.intersection(next_set)\n",
    "            elif op == 'OR':\n",
    "                res = res.union(next_set)\n",
    "            elif op == 'AND NOT':\n",
    "                res = res.difference(next_set)\n",
    "            elif op == 'OR NOT':\n",
    "                all_docs = set.union(*[set(v) for v in inverted_index.values()])\n",
    "                res = res.union(all_docs.difference(next_set))\n",
    "\n",
    "    return res"
   ]
  },
  {
   "cell_type": "code",
   "execution_count": 14,
   "metadata": {},
   "outputs": [],
   "source": [
    "# name to save file\n",
    "index_file = \"inverted_index.pkl\""
   ]
  },
  {
   "cell_type": "code",
   "execution_count": 15,
   "metadata": {},
   "outputs": [],
   "source": [
    "# creating and saving inv index\n",
    "inverted_index = inv_index(folder)\n",
    "save(inverted_index, index_file)"
   ]
  },
  {
   "cell_type": "code",
   "execution_count": 16,
   "metadata": {},
   "outputs": [],
   "source": [
    "# loading saved inverted index using pickle\n",
    "def load_inverted_index(file_name):\n",
    "    with open(file_name, 'rb') as file:\n",
    "        return pickle.load(file)"
   ]
  },
  {
   "cell_type": "code",
   "execution_count": 17,
   "metadata": {},
   "outputs": [],
   "source": [
    "import pickle\n",
    "# loading inv index\n",
    "loaded_index = load_inverted_index(index_file)"
   ]
  },
  {
   "cell_type": "code",
   "execution_count": 19,
   "metadata": {},
   "outputs": [
    {
     "name": "stdout",
     "output_type": "stream",
     "text": [
      "Query 1: Car bag in a canister\n",
      "Number of documents retrieved for query 1: 31\n",
      "Names of the documents retrieved for query 1: file466.txt, file860.txt, file3.txt, file118.txt, file981.txt, file699.txt, file864.txt, file738.txt, file797.txt, file863.txt, file665.txt, file459.txt, file780.txt, file892.txt, file942.txt, file542.txt, file682.txt, file686.txt, file166.txt, file930.txt, file746.txt, file698.txt, file73.txt, file264.txt, file174.txt, file363.txt, file956.txt, file404.txt, file886.txt, file313.txt, file573.txt\n",
      "Query 2: Coffee brewing techniques in cookbook\n",
      "Number of documents retrieved for query 2: 999\n",
      "Names of the documents retrieved for query 2: file346.txt, file36.txt, file389.txt, file238.txt, file347.txt, file864.txt, file608.txt, file687.txt, file507.txt, file393.txt, file983.txt, file706.txt, file504.txt, file587.txt, file60.txt, file589.txt, file251.txt, file601.txt, file836.txt, file897.txt, file147.txt, file354.txt, file269.txt, file766.txt, file376.txt, file711.txt, file882.txt, file334.txt, file831.txt, file442.txt, file133.txt, file745.txt, file786.txt, file175.txt, file180.txt, file765.txt, file328.txt, file753.txt, file750.txt, file675.txt, file29.txt, file624.txt, file254.txt, file433.txt, file369.txt, file494.txt, file838.txt, file691.txt, file929.txt, file899.txt, file460.txt, file139.txt, file31.txt, file713.txt, file50.txt, file662.txt, file122.txt, file522.txt, file1.txt, file857.txt, file156.txt, file514.txt, file688.txt, file163.txt, file99.txt, file943.txt, file488.txt, file689.txt, file169.txt, file440.txt, file712.txt, file47.txt, file842.txt, file991.txt, file935.txt, file614.txt, file216.txt, file953.txt, file321.txt, file946.txt, file311.txt, file9.txt, file875.txt, file263.txt, file12.txt, file573.txt, file921.txt, file358.txt, file952.txt, file607.txt, file330.txt, file525.txt, file756.txt, file762.txt, file564.txt, file868.txt, file708.txt, file153.txt, file101.txt, file696.txt, file242.txt, file177.txt, file567.txt, file954.txt, file591.txt, file816.txt, file296.txt, file663.txt, file392.txt, file930.txt, file417.txt, file264.txt, file391.txt, file119.txt, file359.txt, file999.txt, file997.txt, file721.txt, file671.txt, file971.txt, file489.txt, file936.txt, file692.txt, file332.txt, file623.txt, file627.txt, file422.txt, file618.txt, file121.txt, file343.txt, file823.txt, file38.txt, file172.txt, file944.txt, file410.txt, file138.txt, file134.txt, file425.txt, file800.txt, file560.txt, file306.txt, file386.txt, file684.txt, file517.txt, file860.txt, file42.txt, file718.txt, file281.txt, file619.txt, file769.txt, file49.txt, file7.txt, file844.txt, file326.txt, file17.txt, file258.txt, file972.txt, file305.txt, file596.txt, file225.txt, file780.txt, file680.txt, file375.txt, file202.txt, file160.txt, file637.txt, file143.txt, file405.txt, file674.txt, file732.txt, file550.txt, file136.txt, file859.txt, file307.txt, file454.txt, file476.txt, file629.txt, file54.txt, file967.txt, file559.txt, file720.txt, file491.txt, file913.txt, file697.txt, file940.txt, file233.txt, file774.txt, file265.txt, file681.txt, file150.txt, file272.txt, file186.txt, file222.txt, file807.txt, file594.txt, file428.txt, file995.txt, file439.txt, file577.txt, file707.txt, file435.txt, file781.txt, file896.txt, file275.txt, file100.txt, file95.txt, file886.txt, file924.txt, file973.txt, file891.txt, file615.txt, file784.txt, file486.txt, file130.txt, file170.txt, file344.txt, file495.txt, file797.txt, file378.txt, file340.txt, file385.txt, file32.txt, file963.txt, file768.txt, file337.txt, file912.txt, file444.txt, file804.txt, file938.txt, file809.txt, file105.txt, file341.txt, file941.txt, file268.txt, file223.txt, file26.txt, file668.txt, file622.txt, file937.txt, file621.txt, file586.txt, file236.txt, file479.txt, file187.txt, file158.txt, file87.txt, file137.txt, file379.txt, file839.txt, file20.txt, file716.txt, file126.txt, file245.txt, file562.txt, file77.txt, file484.txt, file110.txt, file409.txt, file336.txt, file8.txt, file926.txt, file45.txt, file301.txt, file945.txt, file98.txt, file563.txt, file806.txt, file90.txt, file18.txt, file645.txt, file977.txt, file918.txt, file925.txt, file230.txt, file861.txt, file949.txt, file209.txt, file657.txt, file58.txt, file468.txt, file907.txt, file377.txt, file11.txt, file480.txt, file655.txt, file865.txt, file821.txt, file775.txt, file411.txt, file866.txt, file911.txt, file297.txt, file900.txt, file166.txt, file161.txt, file727.txt, file572.txt, file773.txt, file820.txt, file363.txt, file867.txt, file815.txt, file111.txt, file388.txt, file55.txt, file196.txt, file381.txt, file414.txt, file751.txt, file965.txt, file570.txt, file475.txt, file752.txt, file603.txt, file505.txt, file232.txt, file555.txt, file695.txt, file195.txt, file201.txt, file298.txt, file539.txt, file832.txt, file698.txt, file726.txt, file847.txt, file757.txt, file76.txt, file270.txt, file947.txt, file13.txt, file228.txt, file61.txt, file235.txt, file16.txt, file740.txt, file728.txt, file131.txt, file248.txt, file117.txt, file547.txt, file982.txt, file642.txt, file670.txt, file595.txt, file315.txt, file764.txt, file679.txt, file793.txt, file282.txt, file682.txt, file503.txt, file934.txt, file553.txt, file746.txt, file189.txt, file869.txt, file241.txt, file252.txt, file404.txt, file986.txt, file406.txt, file544.txt, file928.txt, file181.txt, file620.txt, file565.txt, file612.txt, file284.txt, file3.txt, file705.txt, file803.txt, file731.txt, file998.txt, file568.txt, file293.txt, file853.txt, file529.txt, file535.txt, file552.txt, file664.txt, file217.txt, file693.txt, file741.txt, file792.txt, file542.txt, file333.txt, file854.txt, file814.txt, file654.txt, file384.txt, file616.txt, file107.txt, file834.txt, file590.txt, file871.txt, file277.txt, file813.txt, file331.txt, file852.txt, file626.txt, file91.txt, file880.txt, file649.txt, file754.txt, file74.txt, file224.txt, file465.txt, file68.txt, file950.txt, file221.txt, file371.txt, file658.txt, file802.txt, file987.txt, file512.txt, file985.txt, file927.txt, file576.txt, file167.txt, file154.txt, file320.txt, file88.txt, file659.txt, file879.txt, file919.txt, file120.txt, file21.txt, file360.txt, file759.txt, file118.txt, file602.txt, file380.txt, file523.txt, file184.txt, file43.txt, file459.txt, file931.txt, file262.txt, file858.txt, file811.txt, file259.txt, file497.txt, file162.txt, file817.txt, file299.txt, file345.txt, file145.txt, file628.txt, file516.txt, file159.txt, file403.txt, file194.txt, file39.txt, file905.txt, file424.txt, file914.txt, file846.txt, file382.txt, file197.txt, file837.txt, file812.txt, file742.txt, file992.txt, file738.txt, file791.txt, file592.txt, file672.txt, file509.txt, file276.txt, file906.txt, file165.txt, file808.txt, file274.txt, file467.txt, file795.txt, file676.txt, file917.txt, file319.txt, file92.txt, file208.txt, file290.txt, file845.txt, file609.txt, file889.txt, file819.txt, file75.txt, file357.txt, file968.txt, file988.txt, file604.txt, file685.txt, file959.txt, file901.txt, file909.txt, file469.txt, file790.txt, file722.txt, file483.txt, file191.txt, file782.txt, file190.txt, file449.txt, file777.txt, file85.txt, file353.txt, file112.txt, file200.txt, file310.txt, file116.txt, file996.txt, file633.txt, file437.txt, file910.txt, file149.txt, file470.txt, file349.txt, file204.txt, file743.txt, file569.txt, file178.txt, file667.txt, file19.txt, file957.txt, file779.txt, file962.txt, file625.txt, file828.txt, file580.txt, file229.txt, file527.txt, file548.txt, file969.txt, file588.txt, file41.txt, file694.txt, file456.txt, file207.txt, file519.txt, file683.txt, file267.txt, file890.txt, file214.txt, file65.txt, file312.txt, file188.txt, file666.txt, file598.txt, file73.txt, file300.txt, file368.txt, file426.txt, file920.txt, file771.txt, file585.txt, file948.txt, file260.txt, file6.txt, file980.txt, file473.txt, file427.txt, file498.txt, file34.txt, file295.txt, file127.txt, file124.txt, file448.txt, file939.txt, file755.txt, file361.txt, file502.txt, file115.txt, file329.txt, file770.txt, file958.txt, file109.txt, file164.txt, file231.txt, file398.txt, file458.txt, file402.txt, file835.txt, file761.txt, file994.txt, file171.txt, file648.txt, file641.txt, file825.txt, file582.txt, file210.txt, file956.txt, file220.txt, file961.txt, file53.txt, file309.txt, file606.txt, file452.txt, file185.txt, file725.txt, file636.txt, file855.txt, file714.txt, file635.txt, file653.txt, file227.txt, file193.txt, file617.txt, file273.txt, file955.txt, file499.txt, file482.txt, file257.txt, file639.txt, file558.txt, file419.txt, file646.txt, file478.txt, file960.txt, file908.txt, file51.txt, file106.txt, file399.txt, file690.txt, file261.txt, file370.txt, file883.txt, file736.txt, file524.txt, file715.txt, file492.txt, file887.txt, file348.txt, file730.txt, file447.txt, file383.txt, file665.txt, file540.txt, file89.txt, file651.txt, file669.txt, file24.txt, file526.txt, file335.txt, file903.txt, file81.txt, file923.txt, file717.txt, file783.txt, file536.txt, file472.txt, file673.txt, file218.txt, file898.txt, file266.txt, file739.txt, file125.txt, file157.txt, file530.txt, file893.txt, file534.txt, file250.txt, file496.txt, file966.txt, file40.txt, file108.txt, file64.txt, file710.txt, file52.txt, file129.txt, file631.txt, file915.txt, file246.txt, file27.txt, file551.txt, file446.txt, file719.txt, file989.txt, file678.txt, file205.txt, file93.txt, file37.txt, file493.txt, file450.txt, file599.txt, file733.txt, file702.txt, file255.txt, file285.txt, file597.txt, file173.txt, file352.txt, file723.txt, file474.txt, file841.txt, file545.txt, file510.txt, file279.txt, file253.txt, file805.txt, file863.txt, file763.txt, file922.txt, file974.txt, file829.txt, file916.txt, file976.txt, file703.txt, file579.txt, file575.txt, file323.txt, file892.txt, file350.txt, file737.txt, file44.txt, file373.txt, file477.txt, file778.txt, file84.txt, file86.txt, file397.txt, file203.txt, file796.txt, file541.txt, file634.txt, file408.txt, file144.txt, file390.txt, file884.txt, file904.txt, file511.txt, file872.txt, file123.txt, file57.txt, file647.txt, file600.txt, file247.txt, file660.txt, file415.txt, file543.txt, file978.txt, file283.txt, file840.txt, file356.txt, file490.txt, file457.txt, file453.txt, file462.txt, file638.txt, file652.txt, file72.txt, file933.txt, file395.txt, file851.txt, file67.txt, file874.txt, file826.txt, file15.txt, file656.txt, file302.txt, file546.txt, file979.txt, file556.txt, file443.txt, file104.txt, file140.txt, file515.txt, file686.txt, file888.txt, file677.txt, file932.txt, file584.txt, file56.txt, file146.txt, file416.txt, file734.txt, file362.txt, file574.txt, file799.txt, file798.txt, file487.txt, file288.txt, file451.txt, file538.txt, file271.txt, file436.txt, file661.txt, file520.txt, file709.txt, file148.txt, file749.txt, file183.txt, file62.txt, file870.txt, file605.txt, file128.txt, file339.txt, file432.txt, file537.txt, file168.txt, file372.txt, file481.txt, file401.txt, file66.txt, file557.txt, file876.txt, file387.txt, file308.txt, file364.txt, file463.txt, file152.txt, file418.txt, file317.txt, file374.txt, file289.txt, file748.txt, file412.txt, file827.txt, file23.txt, file327.txt, file643.txt, file862.txt, file179.txt, file951.txt, file70.txt, file396.txt, file151.txt, file69.txt, file135.txt, file531.txt, file461.txt, file215.txt, file96.txt, file192.txt, file881.txt, file833.txt, file287.txt, file71.txt, file22.txt, file355.txt, file2.txt, file640.txt, file532.txt, file407.txt, file787.txt, file5.txt, file423.txt, file212.txt, file747.txt, file94.txt, file810.txt, file280.txt, file303.txt, file237.txt, file644.txt, file304.txt, file286.txt, file772.txt, file10.txt, file902.txt, file848.txt, file942.txt, file704.txt, file14.txt, file850.txt, file83.txt, file78.txt, file878.txt, file155.txt, file199.txt, file895.txt, file80.txt, file213.txt, file471.txt, file744.txt, file830.txt, file801.txt, file583.txt, file314.txt, file249.txt, file993.txt, file506.txt, file650.txt, file141.txt, file366.txt, file400.txt, file885.txt, file975.txt, file211.txt, file441.txt, file35.txt, file294.txt, file610.txt, file455.txt, file518.txt, file990.txt, file438.txt, file132.txt, file431.txt, file724.txt, file613.txt, file322.txt, file97.txt, file466.txt, file413.txt, file767.txt, file981.txt, file758.txt, file508.txt, file735.txt, file30.txt, file578.txt, file239.txt, file877.txt, file789.txt, file501.txt, file822.txt, file593.txt, file113.txt, file571.txt, file82.txt, file4.txt, file394.txt, file873.txt, file611.txt, file776.txt, file843.txt, file342.txt, file292.txt, file500.txt, file316.txt, file729.txt, file318.txt, file142.txt, file521.txt, file46.txt, file964.txt, file174.txt, file28.txt, file445.txt, file182.txt, file226.txt, file313.txt, file103.txt, file291.txt, file485.txt, file325.txt, file849.txt, file785.txt, file243.txt, file554.txt, file856.txt, file63.txt, file701.txt, file794.txt, file59.txt, file434.txt, file33.txt, file338.txt, file206.txt, file102.txt, file632.txt, file984.txt, file420.txt, file429.txt, file464.txt, file788.txt, file114.txt, file533.txt, file430.txt, file581.txt, file549.txt, file244.txt, file351.txt, file630.txt, file700.txt, file894.txt, file760.txt, file421.txt, file699.txt, file176.txt, file25.txt, file278.txt, file256.txt, file198.txt, file365.txt, file219.txt, file566.txt, file513.txt, file240.txt, file528.txt, file824.txt, file324.txt, file970.txt, file234.txt, file79.txt, file48.txt, file818.txt, file561.txt, file367.txt\n"
     ]
    }
   ],
   "source": [
    "# processing unser queries user queries\n",
    "n = int(input(\"Enter number of queries: \"))  \n",
    "\n",
    "for i in range(n):\n",
    "    \n",
    "    query = input(f\"Enter query {i+1}: \")\n",
    "    operations = input(\"Enter operations separated by comma: \").split(\", \")\n",
    "    \n",
    "    result = process_query(query, operations, loaded_index)\n",
    "    \n",
    "    print(f\"Query {i+1}: {query}\")\n",
    "    print(f\"Number of documents retrieved for query {i+1}: {len(result)}\")\n",
    "    print(f\"Names of the documents retrieved for query {i+1}: {', '.join(result)}\")"
   ]
  }
 ],
 "metadata": {
  "kernelspec": {
   "display_name": "Python 3",
   "language": "python",
   "name": "python3"
  },
  "language_info": {
   "codemirror_mode": {
    "name": "ipython",
    "version": 3
   },
   "file_extension": ".py",
   "mimetype": "text/x-python",
   "name": "python",
   "nbconvert_exporter": "python",
   "pygments_lexer": "ipython3",
   "version": "3.10.11"
  }
 },
 "nbformat": 4,
 "nbformat_minor": 2
}
